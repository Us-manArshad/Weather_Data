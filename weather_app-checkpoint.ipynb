{
 "cells": [
  {
   "cell_type": "code",
   "execution_count": null,
   "metadata": {},
   "outputs": [],
   "source": [
    "import pandas as pd\n",
    "data_frame = pd.read_csv(r\"C:\\Users\\Moon\\Documents\\Python\\Untitled Folder\\csv\\lahore_weather_1997_Apr.csv\")\n",
    "#apr1997['Max TemperatureC']\n",
    "max = data_frame['Max TemperatureC']\n",
    "max.max()\n",
    "#max = apr1997.max()\n",
    "#max"
   ]
  },
  {
   "cell_type": "code",
   "execution_count": null,
   "metadata": {},
   "outputs": [],
   "source": [
    "import pandas as pd\n",
    "#Csv file name that is present in same folder where my notebook is saved\n",
    "file_name = input('Please Enter the filename with .csv extention :')\n",
    "\n",
    "#function that read the file and return output in the form of data_frame\n",
    "def filter(file_name):\n",
    "    data_frame = pd.read_csv(file_name)\n",
    "    return data_frame\n",
    "    \n",
    "fil = filter(file_name)\n",
    "filmax = fil.max()\n",
    "filmin = fil.min()\n",
    "max_input = input('To get Maximum Temprature and detail of that day! Please Enter \\'max'\n",
    "                  ' and if want minimum temp then type \\'min')\n",
    "if max_input =='max':\n",
    "    print(\"Maximum temperature of this month and details is given below: \\n\", filmax)\n",
    "elif max_input =='min':\n",
    "     print(\"Minimum temperature of this month and details is given below: \\n\", filmin)\n",
    "else:\n",
    "    print(\"Please enter valid entry that is show in uper line or please enter a valid CSV file name :\")"
   ]
  },
  {
   "cell_type": "code",
   "execution_count": null,
   "metadata": {},
   "outputs": [],
   "source": []
  },
  {
   "cell_type": "code",
   "execution_count": null,
   "metadata": {},
   "outputs": [],
   "source": []
  }
 ],
 "metadata": {
  "kernelspec": {
   "display_name": "Python 3",
   "language": "python",
   "name": "python3"
  },
  "language_info": {
   "codemirror_mode": {
    "name": "ipython",
    "version": 3
   },
   "file_extension": ".py",
   "mimetype": "text/x-python",
   "name": "python",
   "nbconvert_exporter": "python",
   "pygments_lexer": "ipython3",
   "version": "3.7.0"
  }
 },
 "nbformat": 4,
 "nbformat_minor": 2
}
