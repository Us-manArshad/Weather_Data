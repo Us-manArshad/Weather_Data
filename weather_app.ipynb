{
 "cells": [
  {
   "cell_type": "code",
   "execution_count": 3,
   "metadata": {},
   "outputs": [
    {
     "name": "stdout",
     "output_type": "stream",
     "text": [
      "Please Enter the file Name :lahore_weather_1998_Apr\n",
      "To get Maximum Temprature and detail of that day! Please Enter 'max and if want minimum temp then type 'minmin\n",
      "Minimum temperature of this month and details is given below: \n",
      " 16\n"
     ]
    }
   ],
   "source": [
    "import pandas as pd\n",
    "\n",
    "#Csv file name that is present in same folder where my notebook is saved...... the below file_renamed variable is adding the \n",
    "# csv format by default.....\n",
    "\n",
    "file_name = input('Please Enter the file Name :').lower()\n",
    "file_renamed = file_name+'.csv'\n",
    "\n",
    "\n",
    "\n",
    "#function that read the file and return output in the form of data_frame and return data_frame....\n",
    "def filter(file_name):\n",
    "    data_frame = pd.read_csv(file_name)\n",
    "    return data_frame\n",
    "\n",
    "\n",
    "#Object of file name\n",
    "obj_file_name = filter(file_renamed)\n",
    "\n",
    "#saving the maximum and minimum values in variables....\n",
    "max_value = obj_file_name['Max TemperatureC'].max()\n",
    "min_value = obj_file_name['Min TemperatureC'].min()\n",
    "\n",
    "\n",
    "#input from user to call maximum method or minimum method....\n",
    "action_input = input('To get Maximum Temprature and detail of that day! Please Enter \\'max'\n",
    "                  ' and if want minimum temp then type \\'min')\n",
    "\n",
    "\n",
    "# if else conditions that check the input from action_input whether the input in max or min or something else....\n",
    "if action_input =='max':\n",
    "    print(\"Maximum temperature of this month and details is given below: \\n\", max_value)\n",
    "elif action_input =='min':\n",
    "     print(\"Minimum temperature of this month and details is given below: \\n\", min_value)\n",
    "else:\n",
    "    print(\"Please enter valid entry that is show in uper line or please enter a valid CSV file name :\")\n",
    "    \n",
    "    \n",
    "#Here the code is complete!!!"
   ]
  },
  {
   "cell_type": "code",
   "execution_count": null,
   "metadata": {},
   "outputs": [],
   "source": [
    "file_name = input('Please Enter the filename with .csv extention :').lower()\n",
    "\n",
    "file_renamed = file_name+'.csv'\n",
    "file_renamed"
   ]
  },
  {
   "cell_type": "code",
   "execution_count": null,
   "metadata": {},
   "outputs": [],
   "source": [
    "lahore_weather_1999_Sep"
   ]
  },
  {
   "cell_type": "code",
   "execution_count": null,
   "metadata": {},
   "outputs": [],
   "source": []
  }
 ],
 "metadata": {
  "kernelspec": {
   "display_name": "Python 3",
   "language": "python",
   "name": "python3"
  },
  "language_info": {
   "codemirror_mode": {
    "name": "ipython",
    "version": 3
   },
   "file_extension": ".py",
   "mimetype": "text/x-python",
   "name": "python",
   "nbconvert_exporter": "python",
   "pygments_lexer": "ipython3",
   "version": "3.7.0"
  }
 },
 "nbformat": 4,
 "nbformat_minor": 2
}
